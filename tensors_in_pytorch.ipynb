{
  "nbformat": 4,
  "nbformat_minor": 0,
  "metadata": {
    "colab": {
      "provenance": [],
      "gpuType": "T4"
    },
    "kernelspec": {
      "name": "python3",
      "display_name": "Python 3"
    },
    "language_info": {
      "name": "python"
    },
    "accelerator": "GPU"
  },
  "cells": [
    {
      "cell_type": "code",
      "execution_count": 1,
      "metadata": {
        "colab": {
          "base_uri": "https://localhost:8080/"
        },
        "id": "t19_gq09KjvE",
        "outputId": "44115c31-2bbc-46c0-b33f-9bd2dd7c9616"
      },
      "outputs": [
        {
          "output_type": "stream",
          "name": "stdout",
          "text": [
            "2.6.0+cu124\n"
          ]
        }
      ],
      "source": [
        "import torch\n",
        "print(torch.__version__)"
      ]
    },
    {
      "cell_type": "markdown",
      "source": [
        "torch.cuda.is_available(): Checks if CUDA (NVIDIA GPU support) is available.\n",
        "\n",
        "torch.cuda.get_device_name(0): Returns the name of the GPU device at index 0 (first GPU).\n",
        "\n",
        "Prints the result to let the user know whether a GPU or CPU will be used."
      ],
      "metadata": {
        "id": "dKVFk8raiICe"
      }
    },
    {
      "cell_type": "code",
      "source": [
        "if torch.cuda.is_available():\n",
        "    print(\"GPU is available!\")\n",
        "    print(f\"Using GPU: {torch.cuda.get_device_name(0)}\")\n",
        "else:\n",
        "    print(\"GPU not available. Using CPU.\")"
      ],
      "metadata": {
        "colab": {
          "base_uri": "https://localhost:8080/"
        },
        "id": "W8o-1cUl4M2x",
        "outputId": "025d42f6-7a9a-4a9e-fdc9-853b8a6036fd"
      },
      "execution_count": 2,
      "outputs": [
        {
          "output_type": "stream",
          "name": "stdout",
          "text": [
            "GPU is available!\n",
            "Using GPU: Tesla T4\n"
          ]
        }
      ]
    },
    {
      "cell_type": "markdown",
      "source": [
        "## Creating a Tensor"
      ],
      "metadata": {
        "id": "BFcs4wpz4wlA"
      }
    },
    {
      "cell_type": "code",
      "source": [
        "# using empty\n",
        "a = torch.empty(2,3)"
      ],
      "metadata": {
        "id": "AYzOQK7n4nNq"
      },
      "execution_count": 3,
      "outputs": []
    },
    {
      "cell_type": "code",
      "source": [
        "a"
      ],
      "metadata": {
        "colab": {
          "base_uri": "https://localhost:8080/"
        },
        "id": "X9oS1XXjiQd1",
        "outputId": "f16a3427-6114-4b8b-a161-18d4b9c372e3"
      },
      "execution_count": 4,
      "outputs": [
        {
          "output_type": "execute_result",
          "data": {
            "text/plain": [
              "tensor([[0., 0., 0.],\n",
              "        [0., 0., 0.]])"
            ]
          },
          "metadata": {},
          "execution_count": 4
        }
      ]
    },
    {
      "cell_type": "code",
      "source": [
        "# check type\n",
        "type(a)"
      ],
      "metadata": {
        "colab": {
          "base_uri": "https://localhost:8080/"
        },
        "id": "cSOoTAZY5FR1",
        "outputId": "b1e8ad31-6af6-4447-e352-07112c5982a4"
      },
      "execution_count": 5,
      "outputs": [
        {
          "output_type": "execute_result",
          "data": {
            "text/plain": [
              "torch.Tensor"
            ]
          },
          "metadata": {},
          "execution_count": 5
        }
      ]
    },
    {
      "cell_type": "code",
      "source": [
        "# using zeros\n",
        "torch.zeros(2,3)"
      ],
      "metadata": {
        "colab": {
          "base_uri": "https://localhost:8080/"
        },
        "id": "LxVQPOVN47Dt",
        "outputId": "16940e8a-108e-4413-af08-522c2b70e83b"
      },
      "execution_count": 6,
      "outputs": [
        {
          "output_type": "execute_result",
          "data": {
            "text/plain": [
              "tensor([[0., 0., 0.],\n",
              "        [0., 0., 0.]])"
            ]
          },
          "metadata": {},
          "execution_count": 6
        }
      ]
    },
    {
      "cell_type": "code",
      "source": [
        "# using ones\n",
        "torch.ones(2,3)"
      ],
      "metadata": {
        "colab": {
          "base_uri": "https://localhost:8080/"
        },
        "id": "U3-KPOlX48mT",
        "outputId": "a3accb12-32a7-44ef-aa53-3044cfb4debb"
      },
      "execution_count": 7,
      "outputs": [
        {
          "output_type": "execute_result",
          "data": {
            "text/plain": [
              "tensor([[1., 1., 1.],\n",
              "        [1., 1., 1.]])"
            ]
          },
          "metadata": {},
          "execution_count": 7
        }
      ]
    },
    {
      "cell_type": "code",
      "source": [
        "# using rand\n",
        "torch.rand(2,3)"
      ],
      "metadata": {
        "colab": {
          "base_uri": "https://localhost:8080/"
        },
        "id": "U_j_mRGK4-DA",
        "outputId": "0a902960-d638-4c23-d6cd-e7c49abcab9a"
      },
      "execution_count": 8,
      "outputs": [
        {
          "output_type": "execute_result",
          "data": {
            "text/plain": [
              "tensor([[0.2827, 0.2660, 0.7361],\n",
              "        [0.0510, 0.8025, 0.4452]])"
            ]
          },
          "metadata": {},
          "execution_count": 8
        }
      ]
    },
    {
      "cell_type": "code",
      "source": [
        "# use of seed\n",
        "torch.rand(2,3)"
      ],
      "metadata": {
        "colab": {
          "base_uri": "https://localhost:8080/"
        },
        "id": "lCAf-HRw5SiA",
        "outputId": "9a106c62-0c15-45c0-ccd1-bf7d9f516929"
      },
      "execution_count": 10,
      "outputs": [
        {
          "output_type": "execute_result",
          "data": {
            "text/plain": [
              "tensor([[0.2627, 0.0428, 0.2080],\n",
              "        [0.1180, 0.1217, 0.7356]])"
            ]
          },
          "metadata": {},
          "execution_count": 10
        }
      ]
    },
    {
      "cell_type": "code",
      "source": [
        "# manual_seed\n",
        "torch.manual_seed(100) # To get the same random numbers every time, you set a seed\n",
        "torch.rand(2,3)"
      ],
      "metadata": {
        "colab": {
          "base_uri": "https://localhost:8080/"
        },
        "id": "DvAqsoFG5UMr",
        "outputId": "84ee2ef2-a1c7-4189-c21e-b8da186a7a95"
      },
      "execution_count": 11,
      "outputs": [
        {
          "output_type": "execute_result",
          "data": {
            "text/plain": [
              "tensor([[0.1117, 0.8158, 0.2626],\n",
              "        [0.4839, 0.6765, 0.7539]])"
            ]
          },
          "metadata": {},
          "execution_count": 11
        }
      ]
    },
    {
      "cell_type": "code",
      "source": [
        "torch.manual_seed(100)\n",
        "torch.rand(2,3)"
      ],
      "metadata": {
        "colab": {
          "base_uri": "https://localhost:8080/"
        },
        "id": "96Akgtgs5Ulp",
        "outputId": "125cfed7-5b66-4de6-8132-ed11a157f01c"
      },
      "execution_count": 12,
      "outputs": [
        {
          "output_type": "execute_result",
          "data": {
            "text/plain": [
              "tensor([[0.1117, 0.8158, 0.2626],\n",
              "        [0.4839, 0.6765, 0.7539]])"
            ]
          },
          "metadata": {},
          "execution_count": 12
        }
      ]
    },
    {
      "cell_type": "code",
      "source": [
        "# using tensor\n",
        "torch.tensor([[1,2,3],[4,5,6]])"
      ],
      "metadata": {
        "colab": {
          "base_uri": "https://localhost:8080/"
        },
        "id": "-YLLqcGB4_4J",
        "outputId": "297cf3e3-c219-4ce9-9338-826f740b1a8c"
      },
      "execution_count": 13,
      "outputs": [
        {
          "output_type": "execute_result",
          "data": {
            "text/plain": [
              "tensor([[1, 2, 3],\n",
              "        [4, 5, 6]])"
            ]
          },
          "metadata": {},
          "execution_count": 13
        }
      ]
    },
    {
      "cell_type": "code",
      "source": [
        "# other ways\n",
        "\n",
        "# arange\n",
        "print(\"using arange ->\", torch.arange(0,10,2))\n",
        "\n",
        "# using linspace\n",
        "print(\"using linspace ->\", torch.linspace(0,10,10))\n",
        "\n",
        "# using eye\n",
        "print(\"using eye ->\", torch.eye(5))\n",
        "\n",
        "# using full\n",
        "print(\"using full ->\", torch.full((3, 3), 5))"
      ],
      "metadata": {
        "colab": {
          "base_uri": "https://localhost:8080/"
        },
        "id": "nLj35yxr6Qgv",
        "outputId": "c8b6533b-b161-4d8b-fedf-5909f3fe21ed"
      },
      "execution_count": 14,
      "outputs": [
        {
          "output_type": "stream",
          "name": "stdout",
          "text": [
            "using arange -> tensor([0, 2, 4, 6, 8])\n",
            "using linspace -> tensor([ 0.0000,  1.1111,  2.2222,  3.3333,  4.4444,  5.5556,  6.6667,  7.7778,\n",
            "         8.8889, 10.0000])\n",
            "using eye -> tensor([[1., 0., 0., 0., 0.],\n",
            "        [0., 1., 0., 0., 0.],\n",
            "        [0., 0., 1., 0., 0.],\n",
            "        [0., 0., 0., 1., 0.],\n",
            "        [0., 0., 0., 0., 1.]])\n",
            "using full -> tensor([[5, 5, 5],\n",
            "        [5, 5, 5],\n",
            "        [5, 5, 5]])\n"
          ]
        }
      ]
    },
    {
      "cell_type": "markdown",
      "source": [
        "## Tensor Shapes"
      ],
      "metadata": {
        "id": "0ejaUWSkinz0"
      }
    },
    {
      "cell_type": "code",
      "source": [
        "x = torch.tensor([[1,2,3],[4,5,6]])\n",
        "x"
      ],
      "metadata": {
        "colab": {
          "base_uri": "https://localhost:8080/"
        },
        "id": "HDrr5mQ86R4K",
        "outputId": "8831a632-9972-4031-95c3-980ca58adabd"
      },
      "execution_count": 15,
      "outputs": [
        {
          "output_type": "execute_result",
          "data": {
            "text/plain": [
              "tensor([[1, 2, 3],\n",
              "        [4, 5, 6]])"
            ]
          },
          "metadata": {},
          "execution_count": 15
        }
      ]
    },
    {
      "cell_type": "code",
      "source": [
        "x.shape"
      ],
      "metadata": {
        "colab": {
          "base_uri": "https://localhost:8080/"
        },
        "id": "xGZhrLablBq-",
        "outputId": "33ea9221-002b-4752-b63b-c88cdeed5ffb"
      },
      "execution_count": 16,
      "outputs": [
        {
          "output_type": "execute_result",
          "data": {
            "text/plain": [
              "torch.Size([2, 3])"
            ]
          },
          "metadata": {},
          "execution_count": 16
        }
      ]
    },
    {
      "cell_type": "code",
      "source": [
        "torch.empty_like(x) #It creates a new tensor with the same shape and data type as tensor x, but with uninitialized values (i.e., random garbage values from memory)."
      ],
      "metadata": {
        "colab": {
          "base_uri": "https://localhost:8080/"
        },
        "id": "NEQW9QhmlKXA",
        "outputId": "955706ef-240b-4272-c2b3-b43dec305fcf"
      },
      "execution_count": 17,
      "outputs": [
        {
          "output_type": "execute_result",
          "data": {
            "text/plain": [
              "tensor([[8367752027310484831, 7954801838398993778, 2459029315949324647],\n",
              "        [3473795049856185446, 3617566085759591469, 3256442706530756147]])"
            ]
          },
          "metadata": {},
          "execution_count": 17
        }
      ]
    },
    {
      "cell_type": "code",
      "source": [
        "torch.zeros_like(x)"
      ],
      "metadata": {
        "colab": {
          "base_uri": "https://localhost:8080/"
        },
        "id": "PyyKSNHTlXMU",
        "outputId": "a1902987-069c-45de-ef12-3512bf85cb73"
      },
      "execution_count": 18,
      "outputs": [
        {
          "output_type": "execute_result",
          "data": {
            "text/plain": [
              "tensor([[0, 0, 0],\n",
              "        [0, 0, 0]])"
            ]
          },
          "metadata": {},
          "execution_count": 18
        }
      ]
    },
    {
      "cell_type": "code",
      "source": [
        "torch.ones_like(x)"
      ],
      "metadata": {
        "colab": {
          "base_uri": "https://localhost:8080/"
        },
        "id": "WtKV7Wxalb3l",
        "outputId": "513d2c2c-f1ff-4dab-a305-3a85312d1d88"
      },
      "execution_count": 19,
      "outputs": [
        {
          "output_type": "execute_result",
          "data": {
            "text/plain": [
              "tensor([[1, 1, 1],\n",
              "        [1, 1, 1]])"
            ]
          },
          "metadata": {},
          "execution_count": 19
        }
      ]
    },
    {
      "cell_type": "code",
      "source": [
        "torch.rand_like(x, dtype=torch.float32)"
      ],
      "metadata": {
        "colab": {
          "base_uri": "https://localhost:8080/"
        },
        "id": "1WS_uk8ileyH",
        "outputId": "69f42d60-26f2-4f5f-ae4d-5d55b9d47e6e"
      },
      "execution_count": 20,
      "outputs": [
        {
          "output_type": "execute_result",
          "data": {
            "text/plain": [
              "tensor([[0.2627, 0.0428, 0.2080],\n",
              "        [0.1180, 0.1217, 0.7356]])"
            ]
          },
          "metadata": {},
          "execution_count": 20
        }
      ]
    },
    {
      "cell_type": "markdown",
      "source": [
        "## Tensor Data Types"
      ],
      "metadata": {
        "id": "nYM1fR5BmxIf"
      }
    },
    {
      "cell_type": "code",
      "source": [
        "# find data type\n",
        "x.dtype"
      ],
      "metadata": {
        "colab": {
          "base_uri": "https://localhost:8080/"
        },
        "id": "Jy-rBsKSliAe",
        "outputId": "5c990c53-1218-449a-c80d-94e717b05461"
      },
      "execution_count": 21,
      "outputs": [
        {
          "output_type": "execute_result",
          "data": {
            "text/plain": [
              "torch.int64"
            ]
          },
          "metadata": {},
          "execution_count": 21
        }
      ]
    },
    {
      "cell_type": "code",
      "source": [
        "# assign data type\n",
        "torch.tensor([1.0,2.0,3.0], dtype=torch.int32)"
      ],
      "metadata": {
        "colab": {
          "base_uri": "https://localhost:8080/"
        },
        "id": "6T2gmrujnaMA",
        "outputId": "ab03f4e0-c686-44db-e13b-3c8cbcf1f242"
      },
      "execution_count": 22,
      "outputs": [
        {
          "output_type": "execute_result",
          "data": {
            "text/plain": [
              "tensor([1, 2, 3], dtype=torch.int32)"
            ]
          },
          "metadata": {},
          "execution_count": 22
        }
      ]
    },
    {
      "cell_type": "code",
      "source": [
        "torch.tensor([1,2,3], dtype=torch.float64)"
      ],
      "metadata": {
        "colab": {
          "base_uri": "https://localhost:8080/"
        },
        "id": "wZ8lMLsInffd",
        "outputId": "fe5102e6-5f4e-43bd-9e5a-02c85008b83c"
      },
      "execution_count": 23,
      "outputs": [
        {
          "output_type": "execute_result",
          "data": {
            "text/plain": [
              "tensor([1., 2., 3.], dtype=torch.float64)"
            ]
          },
          "metadata": {},
          "execution_count": 23
        }
      ]
    },
    {
      "cell_type": "code",
      "source": [
        "# using to()\n",
        "x.to(torch.float32)"
      ],
      "metadata": {
        "colab": {
          "base_uri": "https://localhost:8080/"
        },
        "id": "WTAB-h_ing07",
        "outputId": "86e61c4e-89d5-44d6-e165-01f2659ba53a"
      },
      "execution_count": 24,
      "outputs": [
        {
          "output_type": "execute_result",
          "data": {
            "text/plain": [
              "tensor([[1., 2., 3.],\n",
              "        [4., 5., 6.]])"
            ]
          },
          "metadata": {},
          "execution_count": 24
        }
      ]
    },
    {
      "cell_type": "markdown",
      "source": [
        "| **Data Type**             | **Dtype**         | **Description**                                                                                                                                                                |\n",
        "|---------------------------|-------------------|--------------------------------------------------------------------------------------------------------------------------------------------------------------------------------|\n",
        "| **32-bit Floating Point** | `torch.float32`   | Standard floating-point type used for most deep learning tasks. Provides a balance between precision and memory usage.                                                         |\n",
        "| **64-bit Floating Point** | `torch.float64`   | Double-precision floating point. Useful for high-precision numerical tasks but uses more memory.                                                                               |\n",
        "| **16-bit Floating Point** | `torch.float16`   | Half-precision floating point. Commonly used in mixed-precision training to reduce memory and computational overhead on modern GPUs.                                            |\n",
        "| **BFloat16**              | `torch.bfloat16`  | Brain floating-point format with reduced precision compared to `float16`. Used in mixed-precision training, especially on TPUs.                                                |\n",
        "| **8-bit Floating Point**  | `torch.float8`    | Ultra-low-precision floating point. Used for experimental applications and extreme memory-constrained environments (less common).                                               |\n",
        "| **8-bit Integer**         | `torch.int8`      | 8-bit signed integer. Used for quantized models to save memory and computation in inference.                                                                                   |\n",
        "| **16-bit Integer**        | `torch.int16`     | 16-bit signed integer. Useful for special numerical tasks requiring intermediate precision.                                                                                    |\n",
        "| **32-bit Integer**        | `torch.int32`     | Standard signed integer type. Commonly used for indexing and general-purpose numerical tasks.                                                                                  |\n",
        "| **64-bit Integer**        | `torch.int64`     | Long integer type. Often used for large indexing arrays or for tasks involving large numbers.                                                                                  |\n",
        "| **8-bit Unsigned Integer**| `torch.uint8`     | 8-bit unsigned integer. Commonly used for image data (e.g., pixel values between 0 and 255).                                                                                    |\n",
        "| **Boolean**               | `torch.bool`      | Boolean type, stores `True` or `False` values. Often used for masks in logical operations.                                                                                      |\n",
        "| **Complex 64**            | `torch.complex64` | Complex number type with 32-bit real and 32-bit imaginary parts. Used for scientific and signal processing tasks.                                                               |\n",
        "| **Complex 128**           | `torch.complex128`| Complex number type with 64-bit real and 64-bit imaginary parts. Offers higher precision but uses more memory.                                                                 |\n",
        "| **Quantized Integer**     | `torch.qint8`     | Quantized signed 8-bit integer. Used in quantized models for efficient inference.                                                                                              |\n",
        "| **Quantized Unsigned Integer** | `torch.quint8` | Quantized unsigned 8-bit integer. Often used for quantized tensors in image-related tasks.                                                                                     |\n"
      ],
      "metadata": {
        "id": "dLm25jhknmuQ"
      }
    },
    {
      "cell_type": "markdown",
      "source": [
        "## Mathematical operations"
      ],
      "metadata": {
        "id": "baPoka3lqpEQ"
      }
    },
    {
      "cell_type": "markdown",
      "source": [
        "### 1. Scalar operation"
      ],
      "metadata": {
        "id": "wre7rSdlqsOB"
      }
    },
    {
      "cell_type": "code",
      "source": [
        "x = torch.rand(2,2)\n",
        "x"
      ],
      "metadata": {
        "colab": {
          "base_uri": "https://localhost:8080/"
        },
        "id": "CS69nYyanqYD",
        "outputId": "779c1278-ce2f-4920-b04b-dbed070d7900"
      },
      "execution_count": 25,
      "outputs": [
        {
          "output_type": "execute_result",
          "data": {
            "text/plain": [
              "tensor([[0.7118, 0.7876],\n",
              "        [0.4183, 0.9014]])"
            ]
          },
          "metadata": {},
          "execution_count": 25
        }
      ]
    },
    {
      "cell_type": "code",
      "source": [
        "# addition\n",
        "x + 2\n",
        "# substraction\n",
        "x - 2\n",
        "# multiplication\n",
        "x * 3\n",
        "# division\n",
        "x / 3\n",
        "# int division\n",
        "(x * 100)//3\n",
        "# mod\n",
        "((x * 100)//3)%2\n",
        "# power\n",
        "x**2"
      ],
      "metadata": {
        "colab": {
          "base_uri": "https://localhost:8080/"
        },
        "id": "ztrwQq-cqyz9",
        "outputId": "66829204-1b51-4954-f321-743587a321a0"
      },
      "execution_count": 26,
      "outputs": [
        {
          "output_type": "execute_result",
          "data": {
            "text/plain": [
              "tensor([[0.5066, 0.6203],\n",
              "        [0.1750, 0.8125]])"
            ]
          },
          "metadata": {},
          "execution_count": 26
        }
      ]
    },
    {
      "cell_type": "markdown",
      "source": [
        "### 2. Element wise operation"
      ],
      "metadata": {
        "id": "y2n84o2ZrGcY"
      }
    },
    {
      "cell_type": "code",
      "source": [
        "a = torch.rand(2,3)\n",
        "b = torch.rand(2,3)\n",
        "\n",
        "print(a)\n",
        "print(b)"
      ],
      "metadata": {
        "colab": {
          "base_uri": "https://localhost:8080/"
        },
        "id": "PcnbNatwq1_3",
        "outputId": "2c6c5900-05c9-4b38-b7c7-5c092531c02f"
      },
      "execution_count": 27,
      "outputs": [
        {
          "output_type": "stream",
          "name": "stdout",
          "text": [
            "tensor([[0.9969, 0.7565, 0.2239],\n",
            "        [0.3023, 0.1784, 0.8238]])\n",
            "tensor([[0.5557, 0.9770, 0.4440],\n",
            "        [0.9478, 0.7445, 0.4892]])\n"
          ]
        }
      ]
    },
    {
      "cell_type": "code",
      "source": [
        "# add\n",
        "a + b\n",
        "# sub\n",
        "a - b\n",
        "# multiply\n",
        "a * b\n",
        "# division\n",
        "a / b\n",
        "# power\n",
        "a ** b\n",
        "# mod\n",
        "a % b"
      ],
      "metadata": {
        "colab": {
          "base_uri": "https://localhost:8080/"
        },
        "id": "Qye9acabrUae",
        "outputId": "28ba4316-e418-48f8-f171-58f57fe56f36"
      },
      "execution_count": 28,
      "outputs": [
        {
          "output_type": "execute_result",
          "data": {
            "text/plain": [
              "tensor([[0.4411, 0.7565, 0.2239],\n",
              "        [0.3023, 0.1784, 0.3346]])"
            ]
          },
          "metadata": {},
          "execution_count": 28
        }
      ]
    },
    {
      "cell_type": "code",
      "source": [
        "c = torch.tensor([1, -2, 3, -4])"
      ],
      "metadata": {
        "id": "ftIq3-30rnhR"
      },
      "execution_count": 29,
      "outputs": []
    },
    {
      "cell_type": "code",
      "source": [
        "# abs\n",
        "torch.abs(c)"
      ],
      "metadata": {
        "colab": {
          "base_uri": "https://localhost:8080/"
        },
        "id": "GHWZWPxWr4rG",
        "outputId": "d467a228-220a-4961-f9fe-a991fd7126c0"
      },
      "execution_count": 30,
      "outputs": [
        {
          "output_type": "execute_result",
          "data": {
            "text/plain": [
              "tensor([1, 2, 3, 4])"
            ]
          },
          "metadata": {},
          "execution_count": 30
        }
      ]
    },
    {
      "cell_type": "code",
      "source": [
        "# negative\n",
        "torch.neg(c)"
      ],
      "metadata": {
        "colab": {
          "base_uri": "https://localhost:8080/"
        },
        "id": "kROGMVNtrtfT",
        "outputId": "2c224c68-2461-4db8-d841-240a82f4ea67"
      },
      "execution_count": 31,
      "outputs": [
        {
          "output_type": "execute_result",
          "data": {
            "text/plain": [
              "tensor([-1,  2, -3,  4])"
            ]
          },
          "metadata": {},
          "execution_count": 31
        }
      ]
    },
    {
      "cell_type": "code",
      "source": [
        "d = torch.tensor([1.9, 2.3, 3.7, 4.4])"
      ],
      "metadata": {
        "id": "U2RLWzlaryKh"
      },
      "execution_count": 32,
      "outputs": []
    },
    {
      "cell_type": "code",
      "source": [
        "# round\n",
        "torch.round(d)"
      ],
      "metadata": {
        "colab": {
          "base_uri": "https://localhost:8080/"
        },
        "id": "g4OrL7w9sAWF",
        "outputId": "55f62ee4-4a21-4cf3-982b-30cb5c2ef488"
      },
      "execution_count": 33,
      "outputs": [
        {
          "output_type": "execute_result",
          "data": {
            "text/plain": [
              "tensor([2., 2., 4., 4.])"
            ]
          },
          "metadata": {},
          "execution_count": 33
        }
      ]
    },
    {
      "cell_type": "code",
      "source": [
        "# ceil\n",
        "torch.ceil(d)"
      ],
      "metadata": {
        "colab": {
          "base_uri": "https://localhost:8080/"
        },
        "id": "1fPsOYOAsEE6",
        "outputId": "cb52485b-5f98-451a-b2bd-64fac8c405ce"
      },
      "execution_count": 34,
      "outputs": [
        {
          "output_type": "execute_result",
          "data": {
            "text/plain": [
              "tensor([2., 3., 4., 5.])"
            ]
          },
          "metadata": {},
          "execution_count": 34
        }
      ]
    },
    {
      "cell_type": "code",
      "source": [
        "# floor\n",
        "torch.floor(d)"
      ],
      "metadata": {
        "colab": {
          "base_uri": "https://localhost:8080/"
        },
        "id": "ilT0yf1TsE6G",
        "outputId": "f1088748-3b56-45ee-8eb1-748cfb392c92"
      },
      "execution_count": 35,
      "outputs": [
        {
          "output_type": "execute_result",
          "data": {
            "text/plain": [
              "tensor([1., 2., 3., 4.])"
            ]
          },
          "metadata": {},
          "execution_count": 35
        }
      ]
    },
    {
      "cell_type": "code",
      "source": [
        "# clamp\n",
        "torch.clamp(d, min=2, max=3)"
      ],
      "metadata": {
        "colab": {
          "base_uri": "https://localhost:8080/"
        },
        "id": "ZzVkY4xgsFvP",
        "outputId": "8150946c-7f0a-418e-bdd1-75cba0ddfee9"
      },
      "execution_count": 36,
      "outputs": [
        {
          "output_type": "execute_result",
          "data": {
            "text/plain": [
              "tensor([2.0000, 2.3000, 3.0000, 3.0000])"
            ]
          },
          "metadata": {},
          "execution_count": 36
        }
      ]
    },
    {
      "cell_type": "markdown",
      "source": [
        "### 3. Reduction operation"
      ],
      "metadata": {
        "id": "4vWfG_ZmsN0J"
      }
    },
    {
      "cell_type": "code",
      "source": [
        "e = torch.randint(size=(2,3), low=0, high=10, dtype=torch.float32)\n",
        "e"
      ],
      "metadata": {
        "colab": {
          "base_uri": "https://localhost:8080/"
        },
        "id": "JQBlGL52sGae",
        "outputId": "5cab414a-43a8-4f63-b6d9-c0531d459fad"
      },
      "execution_count": 37,
      "outputs": [
        {
          "output_type": "execute_result",
          "data": {
            "text/plain": [
              "tensor([[8., 0., 7.],\n",
              "        [0., 0., 9.]])"
            ]
          },
          "metadata": {},
          "execution_count": 37
        }
      ]
    },
    {
      "cell_type": "code",
      "source": [
        "# sum\n",
        "print(torch.sum(e))\n",
        "# sum along columns\n",
        "print(torch.sum(e, dim=0))\n",
        "# sum along rows\n",
        "print(torch.sum(e, dim=1))"
      ],
      "metadata": {
        "colab": {
          "base_uri": "https://localhost:8080/"
        },
        "id": "9o8zMdUosWSs",
        "outputId": "7349e3d6-0893-4779-a77f-8be90d6a2eb3"
      },
      "execution_count": 38,
      "outputs": [
        {
          "output_type": "stream",
          "name": "stdout",
          "text": [
            "tensor(24.)\n",
            "tensor([ 8.,  0., 16.])\n",
            "tensor([15.,  9.])\n"
          ]
        }
      ]
    },
    {
      "cell_type": "code",
      "source": [
        "# mean\n",
        "print(torch.mean(e))\n",
        "# mean along col\n",
        "print(torch.mean(e, dim=0))"
      ],
      "metadata": {
        "colab": {
          "base_uri": "https://localhost:8080/"
        },
        "id": "5Am6Hrdssl90",
        "outputId": "4e9ee7c7-9d1f-4917-f2d7-f6a90a01c79b"
      },
      "execution_count": 39,
      "outputs": [
        {
          "output_type": "stream",
          "name": "stdout",
          "text": [
            "tensor(4.)\n",
            "tensor([4., 0., 8.])\n"
          ]
        }
      ]
    },
    {
      "cell_type": "code",
      "source": [
        "# median\n",
        "torch.median(e)"
      ],
      "metadata": {
        "colab": {
          "base_uri": "https://localhost:8080/"
        },
        "id": "wIXESOkIs8M8",
        "outputId": "0558f4af-5ae1-416f-bc28-ddcf72bf0f27"
      },
      "execution_count": 40,
      "outputs": [
        {
          "output_type": "execute_result",
          "data": {
            "text/plain": [
              "tensor(0.)"
            ]
          },
          "metadata": {},
          "execution_count": 40
        }
      ]
    },
    {
      "cell_type": "code",
      "source": [
        "# max and min\n",
        "print(torch.max(e))\n",
        "print(torch.min(e))"
      ],
      "metadata": {
        "colab": {
          "base_uri": "https://localhost:8080/"
        },
        "id": "RIs7y6cysnFT",
        "outputId": "94ec6805-d95b-4c9f-f3e6-2b0269fd21f7"
      },
      "execution_count": 41,
      "outputs": [
        {
          "output_type": "stream",
          "name": "stdout",
          "text": [
            "tensor(9.)\n",
            "tensor(0.)\n"
          ]
        }
      ]
    },
    {
      "cell_type": "code",
      "source": [
        "# product\n",
        "torch.prod(e)"
      ],
      "metadata": {
        "colab": {
          "base_uri": "https://localhost:8080/"
        },
        "id": "TIP4CUwasw4Q",
        "outputId": "33f63745-6525-4ec6-d7e5-7093fceaab07"
      },
      "execution_count": 42,
      "outputs": [
        {
          "output_type": "execute_result",
          "data": {
            "text/plain": [
              "tensor(0.)"
            ]
          },
          "metadata": {},
          "execution_count": 42
        }
      ]
    },
    {
      "cell_type": "code",
      "source": [
        "# standard deviation\n",
        "torch.std(e)"
      ],
      "metadata": {
        "colab": {
          "base_uri": "https://localhost:8080/"
        },
        "id": "BAQIjNjwsyLF",
        "outputId": "b857a87d-254b-4e0a-a927-1594700d7895"
      },
      "execution_count": 43,
      "outputs": [
        {
          "output_type": "execute_result",
          "data": {
            "text/plain": [
              "tensor(4.4272)"
            ]
          },
          "metadata": {},
          "execution_count": 43
        }
      ]
    },
    {
      "cell_type": "code",
      "source": [
        "# variance\n",
        "torch.var(e)"
      ],
      "metadata": {
        "colab": {
          "base_uri": "https://localhost:8080/"
        },
        "id": "78S1Ggv_s2nC",
        "outputId": "3c24c74c-f201-433f-97ee-1f0102df14dc"
      },
      "execution_count": 44,
      "outputs": [
        {
          "output_type": "execute_result",
          "data": {
            "text/plain": [
              "tensor(19.6000)"
            ]
          },
          "metadata": {},
          "execution_count": 44
        }
      ]
    },
    {
      "cell_type": "code",
      "source": [
        "# argmax\n",
        "torch.argmax(e)"
      ],
      "metadata": {
        "colab": {
          "base_uri": "https://localhost:8080/"
        },
        "id": "EOtGIsd9s3UZ",
        "outputId": "2aa821cd-4090-49b6-9b11-f41a5bdefae7"
      },
      "execution_count": 45,
      "outputs": [
        {
          "output_type": "execute_result",
          "data": {
            "text/plain": [
              "tensor(5)"
            ]
          },
          "metadata": {},
          "execution_count": 45
        }
      ]
    },
    {
      "cell_type": "code",
      "source": [
        "# argmin\n",
        "torch.argmin(e)"
      ],
      "metadata": {
        "colab": {
          "base_uri": "https://localhost:8080/"
        },
        "id": "J23C1bwes6TL",
        "outputId": "269ebd4f-b4e1-45ae-cc92-4005cdc87e8e"
      },
      "execution_count": 46,
      "outputs": [
        {
          "output_type": "execute_result",
          "data": {
            "text/plain": [
              "tensor(1)"
            ]
          },
          "metadata": {},
          "execution_count": 46
        }
      ]
    },
    {
      "cell_type": "markdown",
      "source": [
        "### 4. Matrix operations"
      ],
      "metadata": {
        "id": "dw_h9fvMtLXw"
      }
    },
    {
      "cell_type": "code",
      "source": [
        "f = torch.randint(size=(2,3), low=0, high=10)\n",
        "g = torch.randint(size=(3,2), low=0, high=10)\n",
        "\n",
        "print(f)\n",
        "print(g)"
      ],
      "metadata": {
        "colab": {
          "base_uri": "https://localhost:8080/"
        },
        "id": "a54MqBBQs7BJ",
        "outputId": "4159e91f-3b33-4f5b-eca5-b020cd36ba8f"
      },
      "execution_count": 47,
      "outputs": [
        {
          "output_type": "stream",
          "name": "stdout",
          "text": [
            "tensor([[5, 7, 3],\n",
            "        [9, 4, 0]])\n",
            "tensor([[5, 7],\n",
            "        [5, 9],\n",
            "        [9, 7]])\n"
          ]
        }
      ]
    },
    {
      "cell_type": "code",
      "source": [
        "# matrix multiplcation\n",
        "torch.matmul(f, g)"
      ],
      "metadata": {
        "colab": {
          "base_uri": "https://localhost:8080/"
        },
        "id": "BqQ7sNBctWfS",
        "outputId": "ace9aed3-6696-4c75-b769-a408786b2a7f"
      },
      "execution_count": 48,
      "outputs": [
        {
          "output_type": "execute_result",
          "data": {
            "text/plain": [
              "tensor([[ 87, 119],\n",
              "        [ 65,  99]])"
            ]
          },
          "metadata": {},
          "execution_count": 48
        }
      ]
    },
    {
      "cell_type": "code",
      "source": [
        "vector1 = torch.tensor([1, 2])\n",
        "vector2 = torch.tensor([3, 4])\n",
        "print(vector1)\n",
        "print(vector2)\n",
        "# dot product\n",
        "torch.dot(vector1, vector2)"
      ],
      "metadata": {
        "colab": {
          "base_uri": "https://localhost:8080/"
        },
        "id": "CopN1Oe5tZrD",
        "outputId": "902405fc-f8a9-47f3-d66b-a366c9cebff9"
      },
      "execution_count": 49,
      "outputs": [
        {
          "output_type": "stream",
          "name": "stdout",
          "text": [
            "tensor([1, 2])\n",
            "tensor([3, 4])\n"
          ]
        },
        {
          "output_type": "execute_result",
          "data": {
            "text/plain": [
              "tensor(11)"
            ]
          },
          "metadata": {},
          "execution_count": 49
        }
      ]
    },
    {
      "cell_type": "code",
      "source": [
        "# transpose\n",
        "torch.transpose(f, 0, 1) # torch.transpose(f, dim0, dim1) -->\tSwaps any two dimensions of f"
      ],
      "metadata": {
        "colab": {
          "base_uri": "https://localhost:8080/"
        },
        "id": "9Imz3Vq6ta4y",
        "outputId": "c9456f65-137f-494d-f38b-02398b95beb6"
      },
      "execution_count": 51,
      "outputs": [
        {
          "output_type": "execute_result",
          "data": {
            "text/plain": [
              "tensor([[5, 9],\n",
              "        [7, 4],\n",
              "        [3, 0]])"
            ]
          },
          "metadata": {},
          "execution_count": 51
        }
      ]
    },
    {
      "cell_type": "code",
      "source": [
        "h = torch.randint(size=(3,3), low=0, high=10, dtype=torch.float32)\n",
        "h"
      ],
      "metadata": {
        "colab": {
          "base_uri": "https://localhost:8080/"
        },
        "id": "yEfuS9ZKtdSi",
        "outputId": "5d1bf0ed-5360-430f-c537-10b4634157e0"
      },
      "execution_count": 52,
      "outputs": [
        {
          "output_type": "execute_result",
          "data": {
            "text/plain": [
              "tensor([[5., 9., 8.],\n",
              "        [9., 7., 9.],\n",
              "        [2., 6., 7.]])"
            ]
          },
          "metadata": {},
          "execution_count": 52
        }
      ]
    },
    {
      "cell_type": "code",
      "source": [
        "# determinant\n",
        "torch.det(h)"
      ],
      "metadata": {
        "colab": {
          "base_uri": "https://localhost:8080/"
        },
        "id": "PqfUsUvttpXZ",
        "outputId": "f025dace-9eee-420b-d770-4ffc5ab7d98c"
      },
      "execution_count": 53,
      "outputs": [
        {
          "output_type": "execute_result",
          "data": {
            "text/plain": [
              "tensor(-110.)"
            ]
          },
          "metadata": {},
          "execution_count": 53
        }
      ]
    },
    {
      "cell_type": "code",
      "source": [
        "# inverse\n",
        "torch.inverse(h)"
      ],
      "metadata": {
        "colab": {
          "base_uri": "https://localhost:8080/"
        },
        "id": "X0khPormts14",
        "outputId": "b13cd1b1-1767-45d9-ddb1-514aee58bc29"
      },
      "execution_count": 54,
      "outputs": [
        {
          "output_type": "execute_result",
          "data": {
            "text/plain": [
              "tensor([[ 0.0455,  0.1364, -0.2273],\n",
              "        [ 0.4091, -0.1727, -0.2455],\n",
              "        [-0.3636,  0.1091,  0.4182]])"
            ]
          },
          "metadata": {},
          "execution_count": 54
        }
      ]
    },
    {
      "cell_type": "markdown",
      "source": [
        "### 5. Comparison operations"
      ],
      "metadata": {
        "id": "-lEkBmv5t1nB"
      }
    },
    {
      "cell_type": "code",
      "source": [
        "i = torch.randint(size=(2,3), low=0, high=10)\n",
        "j = torch.randint(size=(2,3), low=0, high=10)\n",
        "\n",
        "print(i)\n",
        "print(j)"
      ],
      "metadata": {
        "colab": {
          "base_uri": "https://localhost:8080/"
        },
        "id": "G89Keg-xtxUr",
        "outputId": "d9eaac6c-6f34-4196-c791-89348a35c71e"
      },
      "execution_count": 55,
      "outputs": [
        {
          "output_type": "stream",
          "name": "stdout",
          "text": [
            "tensor([[7, 8, 3],\n",
            "        [6, 1, 5]])\n",
            "tensor([[5, 0, 4],\n",
            "        [3, 8, 8]])\n"
          ]
        }
      ]
    },
    {
      "cell_type": "code",
      "source": [
        "# greater than\n",
        "i > j\n",
        "# less than\n",
        "i < j\n",
        "# equal to\n",
        "i == j\n",
        "# not equal to\n",
        "i != j\n",
        "# greater than equal to\n",
        "\n",
        "# less than equal to"
      ],
      "metadata": {
        "colab": {
          "base_uri": "https://localhost:8080/"
        },
        "id": "F5v--5uiuBWW",
        "outputId": "cfe162e9-6ac5-4277-e7a6-749804484b7d"
      },
      "execution_count": 56,
      "outputs": [
        {
          "output_type": "execute_result",
          "data": {
            "text/plain": [
              "tensor([[True, True, True],\n",
              "        [True, True, True]])"
            ]
          },
          "metadata": {},
          "execution_count": 56
        }
      ]
    },
    {
      "cell_type": "markdown",
      "source": [
        "### 6. Special functions"
      ],
      "metadata": {
        "id": "jd9JzlO1uaf3"
      }
    },
    {
      "cell_type": "code",
      "source": [
        "k = torch.randint(size=(2,3), low=0, high=10, dtype=torch.float32)\n",
        "k"
      ],
      "metadata": {
        "colab": {
          "base_uri": "https://localhost:8080/"
        },
        "id": "lKU6tQpyuY0M",
        "outputId": "f961fcf5-af3c-4fc7-bb81-15aafa68f1a3"
      },
      "execution_count": 57,
      "outputs": [
        {
          "output_type": "execute_result",
          "data": {
            "text/plain": [
              "tensor([[3., 3., 5.],\n",
              "        [0., 6., 4.]])"
            ]
          },
          "metadata": {},
          "execution_count": 57
        }
      ]
    },
    {
      "cell_type": "code",
      "source": [
        "# log\n",
        "torch.log(k)"
      ],
      "metadata": {
        "colab": {
          "base_uri": "https://localhost:8080/"
        },
        "id": "-gl1dhdVuDOE",
        "outputId": "0e224214-7a6a-4caf-d057-220dee7cc3ee"
      },
      "execution_count": 58,
      "outputs": [
        {
          "output_type": "execute_result",
          "data": {
            "text/plain": [
              "tensor([[1.0986, 1.0986, 1.6094],\n",
              "        [  -inf, 1.7918, 1.3863]])"
            ]
          },
          "metadata": {},
          "execution_count": 58
        }
      ]
    },
    {
      "cell_type": "code",
      "source": [
        "# exp\n",
        "torch.exp(k)"
      ],
      "metadata": {
        "colab": {
          "base_uri": "https://localhost:8080/"
        },
        "id": "rQSpBdkbujck",
        "outputId": "87273e92-a789-40a5-8672-b45fb95f4eb7"
      },
      "execution_count": 59,
      "outputs": [
        {
          "output_type": "execute_result",
          "data": {
            "text/plain": [
              "tensor([[ 20.0855,  20.0855, 148.4132],\n",
              "        [  1.0000, 403.4288,  54.5981]])"
            ]
          },
          "metadata": {},
          "execution_count": 59
        }
      ]
    },
    {
      "cell_type": "code",
      "source": [
        "# sqrt\n",
        "torch.sqrt(k)"
      ],
      "metadata": {
        "colab": {
          "base_uri": "https://localhost:8080/"
        },
        "id": "gTDfXdbVukh0",
        "outputId": "d87c0599-49b6-43fe-8bc4-17778af3d8d2"
      },
      "execution_count": 60,
      "outputs": [
        {
          "output_type": "execute_result",
          "data": {
            "text/plain": [
              "tensor([[1.7321, 1.7321, 2.2361],\n",
              "        [0.0000, 2.4495, 2.0000]])"
            ]
          },
          "metadata": {},
          "execution_count": 60
        }
      ]
    },
    {
      "cell_type": "code",
      "source": [
        "# sigmoid\n",
        "torch.sigmoid(k)"
      ],
      "metadata": {
        "colab": {
          "base_uri": "https://localhost:8080/"
        },
        "id": "d-rbMIVPunhr",
        "outputId": "54744073-6635-420b-ff91-baf6b5d53a9f"
      },
      "execution_count": 61,
      "outputs": [
        {
          "output_type": "execute_result",
          "data": {
            "text/plain": [
              "tensor([[0.9526, 0.9526, 0.9933],\n",
              "        [0.5000, 0.9975, 0.9820]])"
            ]
          },
          "metadata": {},
          "execution_count": 61
        }
      ]
    },
    {
      "cell_type": "code",
      "source": [
        "# softmax\n",
        "torch.softmax(k, dim=0)"
      ],
      "metadata": {
        "colab": {
          "base_uri": "https://localhost:8080/"
        },
        "id": "X74chVfQusqf",
        "outputId": "c4cd545c-ff4f-4a47-8aed-6bee811fdafd"
      },
      "execution_count": 62,
      "outputs": [
        {
          "output_type": "execute_result",
          "data": {
            "text/plain": [
              "tensor([[0.9526, 0.0474, 0.7311],\n",
              "        [0.0474, 0.9526, 0.2689]])"
            ]
          },
          "metadata": {},
          "execution_count": 62
        }
      ]
    },
    {
      "cell_type": "code",
      "source": [
        "# relu\n",
        "torch.relu(k)"
      ],
      "metadata": {
        "colab": {
          "base_uri": "https://localhost:8080/"
        },
        "id": "JnLG2JbyutvC",
        "outputId": "21c820c6-6463-4207-dad7-ac93da26a1c0"
      },
      "execution_count": 63,
      "outputs": [
        {
          "output_type": "execute_result",
          "data": {
            "text/plain": [
              "tensor([[3., 3., 5.],\n",
              "        [0., 6., 4.]])"
            ]
          },
          "metadata": {},
          "execution_count": 63
        }
      ]
    },
    {
      "cell_type": "markdown",
      "source": [
        "## Inplace Operations"
      ],
      "metadata": {
        "id": "JQ7im-Mz9Mu9"
      }
    },
    {
      "cell_type": "code",
      "source": [
        "m = torch.rand(2,3)\n",
        "n = torch.rand(2,3)\n",
        "\n",
        "print(m)\n",
        "print(n)"
      ],
      "metadata": {
        "colab": {
          "base_uri": "https://localhost:8080/"
        },
        "id": "mKVMTBq7uufZ",
        "outputId": "a1954832-46a3-4e98-c199-a367e6a8fcee"
      },
      "execution_count": 64,
      "outputs": [
        {
          "output_type": "stream",
          "name": "stdout",
          "text": [
            "tensor([[0.6574, 0.3451, 0.0453],\n",
            "        [0.9798, 0.5548, 0.6868]])\n",
            "tensor([[0.4920, 0.0748, 0.9605],\n",
            "        [0.3271, 0.0103, 0.9516]])\n"
          ]
        }
      ]
    },
    {
      "cell_type": "code",
      "source": [
        "m.add_(n) # In-place ops (like .add_(), .mul_(), .zero_(), etc.) change the original tensor."
      ],
      "metadata": {
        "colab": {
          "base_uri": "https://localhost:8080/"
        },
        "id": "HmN2o2Ge_j8h",
        "outputId": "d3f6d2f2-6598-4a2e-8fa5-b89382721a95"
      },
      "execution_count": 65,
      "outputs": [
        {
          "output_type": "execute_result",
          "data": {
            "text/plain": [
              "tensor([[1.1494, 0.4199, 1.0058],\n",
              "        [1.3069, 0.5650, 1.6384]])"
            ]
          },
          "metadata": {},
          "execution_count": 65
        }
      ]
    },
    {
      "cell_type": "code",
      "source": [
        "m"
      ],
      "metadata": {
        "colab": {
          "base_uri": "https://localhost:8080/"
        },
        "id": "1k8bPLhgAN64",
        "outputId": "1130c00d-cc44-45d7-b660-3589eb675d93"
      },
      "execution_count": 66,
      "outputs": [
        {
          "output_type": "execute_result",
          "data": {
            "text/plain": [
              "tensor([[1.1494, 0.4199, 1.0058],\n",
              "        [1.3069, 0.5650, 1.6384]])"
            ]
          },
          "metadata": {},
          "execution_count": 66
        }
      ]
    },
    {
      "cell_type": "code",
      "source": [
        "n"
      ],
      "metadata": {
        "colab": {
          "base_uri": "https://localhost:8080/"
        },
        "id": "d_pBAPcGAkHW",
        "outputId": "59ef376e-a21a-4197-ff1b-6a774a0d87f4"
      },
      "execution_count": 67,
      "outputs": [
        {
          "output_type": "execute_result",
          "data": {
            "text/plain": [
              "tensor([[0.4920, 0.0748, 0.9605],\n",
              "        [0.3271, 0.0103, 0.9516]])"
            ]
          },
          "metadata": {},
          "execution_count": 67
        }
      ]
    },
    {
      "cell_type": "code",
      "source": [
        "torch.relu(m)"
      ],
      "metadata": {
        "colab": {
          "base_uri": "https://localhost:8080/"
        },
        "id": "8OhePrDbAmwh",
        "outputId": "ee113b1f-4ad2-4eb5-981c-3410b5a9e4ac"
      },
      "execution_count": 68,
      "outputs": [
        {
          "output_type": "execute_result",
          "data": {
            "text/plain": [
              "tensor([[1.1494, 0.4199, 1.0058],\n",
              "        [1.3069, 0.5650, 1.6384]])"
            ]
          },
          "metadata": {},
          "execution_count": 68
        }
      ]
    },
    {
      "cell_type": "code",
      "source": [
        "m.relu_()"
      ],
      "metadata": {
        "colab": {
          "base_uri": "https://localhost:8080/"
        },
        "id": "M_s6WQ0pAuTG",
        "outputId": "44e0b829-ac0d-4cf9-d1d1-a3e9919dd61c"
      },
      "execution_count": 69,
      "outputs": [
        {
          "output_type": "execute_result",
          "data": {
            "text/plain": [
              "tensor([[1.1494, 0.4199, 1.0058],\n",
              "        [1.3069, 0.5650, 1.6384]])"
            ]
          },
          "metadata": {},
          "execution_count": 69
        }
      ]
    },
    {
      "cell_type": "code",
      "source": [
        "m"
      ],
      "metadata": {
        "colab": {
          "base_uri": "https://localhost:8080/"
        },
        "id": "sucQ4iPYAyqn",
        "outputId": "926f12e7-e681-4ec2-d0c8-2bf9c27a6bcf"
      },
      "execution_count": 70,
      "outputs": [
        {
          "output_type": "execute_result",
          "data": {
            "text/plain": [
              "tensor([[1.1494, 0.4199, 1.0058],\n",
              "        [1.3069, 0.5650, 1.6384]])"
            ]
          },
          "metadata": {},
          "execution_count": 70
        }
      ]
    },
    {
      "cell_type": "markdown",
      "source": [
        "## Copying a Tensor"
      ],
      "metadata": {
        "id": "7-SgjcqnCN9P"
      }
    },
    {
      "cell_type": "code",
      "source": [
        "a = torch.rand(2,3)\n",
        "a"
      ],
      "metadata": {
        "colab": {
          "base_uri": "https://localhost:8080/"
        },
        "id": "z8SCsW7kA0jt",
        "outputId": "b4c18569-a3f1-4c01-cbc8-41d4fae39dbc"
      },
      "execution_count": 71,
      "outputs": [
        {
          "output_type": "execute_result",
          "data": {
            "text/plain": [
              "tensor([[0.2855, 0.2324, 0.9141],\n",
              "        [0.7668, 0.1659, 0.4393]])"
            ]
          },
          "metadata": {},
          "execution_count": 71
        }
      ]
    },
    {
      "cell_type": "code",
      "source": [
        "b = a"
      ],
      "metadata": {
        "id": "3Z0IUCnpCsCv"
      },
      "execution_count": 72,
      "outputs": []
    },
    {
      "cell_type": "code",
      "source": [
        "b"
      ],
      "metadata": {
        "colab": {
          "base_uri": "https://localhost:8080/"
        },
        "id": "1YNvboxaECjm",
        "outputId": "bd192607-69ca-4fa2-e934-76767e61dbf9"
      },
      "execution_count": 73,
      "outputs": [
        {
          "output_type": "execute_result",
          "data": {
            "text/plain": [
              "tensor([[0.2855, 0.2324, 0.9141],\n",
              "        [0.7668, 0.1659, 0.4393]])"
            ]
          },
          "metadata": {},
          "execution_count": 73
        }
      ]
    },
    {
      "cell_type": "code",
      "source": [
        "a[0][0] = 0"
      ],
      "metadata": {
        "id": "waV6eAuUEDzq"
      },
      "execution_count": 74,
      "outputs": []
    },
    {
      "cell_type": "code",
      "source": [
        "a"
      ],
      "metadata": {
        "colab": {
          "base_uri": "https://localhost:8080/"
        },
        "id": "U7u-UDXpEIgJ",
        "outputId": "c510f7f8-4e37-4804-c4ec-b957ac5b7ac7"
      },
      "execution_count": 75,
      "outputs": [
        {
          "output_type": "execute_result",
          "data": {
            "text/plain": [
              "tensor([[0.0000, 0.2324, 0.9141],\n",
              "        [0.7668, 0.1659, 0.4393]])"
            ]
          },
          "metadata": {},
          "execution_count": 75
        }
      ]
    },
    {
      "cell_type": "code",
      "source": [
        "b"
      ],
      "metadata": {
        "colab": {
          "base_uri": "https://localhost:8080/"
        },
        "id": "-4tihkNkEJW3",
        "outputId": "b4755d69-81d7-4450-8e8d-b4066e9bc482"
      },
      "execution_count": 76,
      "outputs": [
        {
          "output_type": "execute_result",
          "data": {
            "text/plain": [
              "tensor([[0.0000, 0.2324, 0.9141],\n",
              "        [0.7668, 0.1659, 0.4393]])"
            ]
          },
          "metadata": {},
          "execution_count": 76
        }
      ]
    },
    {
      "cell_type": "code",
      "source": [
        "id(a)"
      ],
      "metadata": {
        "colab": {
          "base_uri": "https://localhost:8080/"
        },
        "id": "m8D9GAChEL7E",
        "outputId": "420343d3-feff-4a92-e01a-5d9e5883662f"
      },
      "execution_count": 77,
      "outputs": [
        {
          "output_type": "execute_result",
          "data": {
            "text/plain": [
              "134601681472208"
            ]
          },
          "metadata": {},
          "execution_count": 77
        }
      ]
    },
    {
      "cell_type": "code",
      "source": [
        "id(b)"
      ],
      "metadata": {
        "colab": {
          "base_uri": "https://localhost:8080/"
        },
        "id": "vLh7o5KUEVJS",
        "outputId": "0c79efe4-bea5-4f9d-e0d9-2d7d61f1b470"
      },
      "execution_count": 78,
      "outputs": [
        {
          "output_type": "execute_result",
          "data": {
            "text/plain": [
              "134601681472208"
            ]
          },
          "metadata": {},
          "execution_count": 78
        }
      ]
    },
    {
      "cell_type": "code",
      "source": [
        "b = a.clone()"
      ],
      "metadata": {
        "id": "KWDEt8h8EW2i"
      },
      "execution_count": 79,
      "outputs": []
    },
    {
      "cell_type": "code",
      "source": [
        "a"
      ],
      "metadata": {
        "colab": {
          "base_uri": "https://localhost:8080/"
        },
        "id": "ndhb6dktEcov",
        "outputId": "a95a0f5f-3b36-4828-db50-61f9ccce6a61"
      },
      "execution_count": 80,
      "outputs": [
        {
          "output_type": "execute_result",
          "data": {
            "text/plain": [
              "tensor([[0.0000, 0.2324, 0.9141],\n",
              "        [0.7668, 0.1659, 0.4393]])"
            ]
          },
          "metadata": {},
          "execution_count": 80
        }
      ]
    },
    {
      "cell_type": "code",
      "source": [
        "b"
      ],
      "metadata": {
        "colab": {
          "base_uri": "https://localhost:8080/"
        },
        "id": "M1MgVSoXEd2E",
        "outputId": "215241e4-f53d-4536-a5f8-a39694733bfa"
      },
      "execution_count": 81,
      "outputs": [
        {
          "output_type": "execute_result",
          "data": {
            "text/plain": [
              "tensor([[0.0000, 0.2324, 0.9141],\n",
              "        [0.7668, 0.1659, 0.4393]])"
            ]
          },
          "metadata": {},
          "execution_count": 81
        }
      ]
    },
    {
      "cell_type": "code",
      "source": [
        "a[0][0] = 10"
      ],
      "metadata": {
        "id": "LGxrfDtTEeVI"
      },
      "execution_count": 82,
      "outputs": []
    },
    {
      "cell_type": "code",
      "source": [
        "a"
      ],
      "metadata": {
        "colab": {
          "base_uri": "https://localhost:8080/"
        },
        "id": "KoGwR1k2Eg_1",
        "outputId": "e04ddebd-4331-467d-ba14-92dd6ffcb20d"
      },
      "execution_count": 83,
      "outputs": [
        {
          "output_type": "execute_result",
          "data": {
            "text/plain": [
              "tensor([[10.0000,  0.2324,  0.9141],\n",
              "        [ 0.7668,  0.1659,  0.4393]])"
            ]
          },
          "metadata": {},
          "execution_count": 83
        }
      ]
    },
    {
      "cell_type": "code",
      "source": [
        "b"
      ],
      "metadata": {
        "id": "hnmU7qDXEh_R",
        "outputId": "e611404d-4e1e-4f14-c394-a43055ae2c0f",
        "colab": {
          "base_uri": "https://localhost:8080/"
        }
      },
      "execution_count": 84,
      "outputs": [
        {
          "output_type": "execute_result",
          "data": {
            "text/plain": [
              "tensor([[0.0000, 0.2324, 0.9141],\n",
              "        [0.7668, 0.1659, 0.4393]])"
            ]
          },
          "metadata": {},
          "execution_count": 84
        }
      ]
    },
    {
      "cell_type": "code",
      "source": [
        "id(a)"
      ],
      "metadata": {
        "id": "5cy76FS5EjIz",
        "outputId": "c1e5a69e-614f-45c4-afef-09eb7e906329",
        "colab": {
          "base_uri": "https://localhost:8080/"
        }
      },
      "execution_count": 85,
      "outputs": [
        {
          "output_type": "execute_result",
          "data": {
            "text/plain": [
              "134601681472208"
            ]
          },
          "metadata": {},
          "execution_count": 85
        }
      ]
    },
    {
      "cell_type": "code",
      "source": [
        "id(b)"
      ],
      "metadata": {
        "id": "jmBkTNQ8EmP1",
        "outputId": "fbf78066-628b-415e-bdda-ff7c84b9dc42",
        "colab": {
          "base_uri": "https://localhost:8080/"
        }
      },
      "execution_count": 86,
      "outputs": [
        {
          "output_type": "execute_result",
          "data": {
            "text/plain": [
              "134601681473936"
            ]
          },
          "metadata": {},
          "execution_count": 86
        }
      ]
    },
    {
      "cell_type": "code",
      "source": [],
      "metadata": {
        "id": "W1SwQS8jEnW2"
      },
      "execution_count": null,
      "outputs": []
    }
  ]
}